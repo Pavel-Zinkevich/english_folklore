{
  "nbformat": 4,
  "nbformat_minor": 0,
  "metadata": {
    "colab": {
      "provenance": [],
      "include_colab_link": true
    },
    "kernelspec": {
      "name": "python3",
      "display_name": "Python 3"
    },
    "language_info": {
      "name": "python"
    }
  },
  "cells": [
    {
      "cell_type": "markdown",
      "metadata": {
        "id": "view-in-github",
        "colab_type": "text"
      },
      "source": [
        "<a href=\"https://colab.research.google.com/github/Pavel-Zinkevich/english_folklore/blob/main/Ask_answer.ipynb\" target=\"_parent\"><img src=\"https://colab.research.google.com/assets/colab-badge.svg\" alt=\"Open In Colab\"/></a>"
      ]
    },
    {
      "cell_type": "code",
      "source": [
        "import warnings\n",
        "warnings.filterwarnings(\"ignore\", category=DeprecationWarning)"
      ],
      "metadata": {
        "id": "MXcLmyPypb_Z"
      },
      "execution_count": null,
      "outputs": []
    },
    {
      "cell_type": "code",
      "source": [
        "!pip install openai mwclient mwparserfromhell tiktoken"
      ],
      "metadata": {
        "colab": {
          "base_uri": "https://localhost:8080/"
        },
        "id": "7GJYFmnwpdeK",
        "outputId": "83afe153-ef8a-43ae-d880-4cc0b6ea09cf"
      },
      "execution_count": null,
      "outputs": [
        {
          "output_type": "stream",
          "name": "stdout",
          "text": [
            "Requirement already satisfied: openai in /usr/local/lib/python3.12/dist-packages (1.106.1)\n",
            "Collecting mwclient\n",
            "  Downloading mwclient-0.11.0-py3-none-any.whl.metadata (3.7 kB)\n",
            "Collecting mwparserfromhell\n",
            "  Downloading mwparserfromhell-0.7.2-cp312-cp312-manylinux2014_x86_64.manylinux_2_17_x86_64.manylinux_2_28_x86_64.whl.metadata (10 kB)\n",
            "Requirement already satisfied: tiktoken in /usr/local/lib/python3.12/dist-packages (0.11.0)\n",
            "Requirement already satisfied: anyio<5,>=3.5.0 in /usr/local/lib/python3.12/dist-packages (from openai) (4.10.0)\n",
            "Requirement already satisfied: distro<2,>=1.7.0 in /usr/local/lib/python3.12/dist-packages (from openai) (1.9.0)\n",
            "Requirement already satisfied: httpx<1,>=0.23.0 in /usr/local/lib/python3.12/dist-packages (from openai) (0.28.1)\n",
            "Requirement already satisfied: jiter<1,>=0.4.0 in /usr/local/lib/python3.12/dist-packages (from openai) (0.10.0)\n",
            "Requirement already satisfied: pydantic<3,>=1.9.0 in /usr/local/lib/python3.12/dist-packages (from openai) (2.11.7)\n",
            "Requirement already satisfied: sniffio in /usr/local/lib/python3.12/dist-packages (from openai) (1.3.1)\n",
            "Requirement already satisfied: tqdm>4 in /usr/local/lib/python3.12/dist-packages (from openai) (4.67.1)\n",
            "Requirement already satisfied: typing-extensions<5,>=4.11 in /usr/local/lib/python3.12/dist-packages (from openai) (4.15.0)\n",
            "Requirement already satisfied: requests-oauthlib in /usr/local/lib/python3.12/dist-packages (from mwclient) (2.0.0)\n",
            "Requirement already satisfied: regex>=2022.1.18 in /usr/local/lib/python3.12/dist-packages (from tiktoken) (2024.11.6)\n",
            "Requirement already satisfied: requests>=2.26.0 in /usr/local/lib/python3.12/dist-packages (from tiktoken) (2.32.4)\n",
            "Requirement already satisfied: idna>=2.8 in /usr/local/lib/python3.12/dist-packages (from anyio<5,>=3.5.0->openai) (3.10)\n",
            "Requirement already satisfied: certifi in /usr/local/lib/python3.12/dist-packages (from httpx<1,>=0.23.0->openai) (2025.8.3)\n",
            "Requirement already satisfied: httpcore==1.* in /usr/local/lib/python3.12/dist-packages (from httpx<1,>=0.23.0->openai) (1.0.9)\n",
            "Requirement already satisfied: h11>=0.16 in /usr/local/lib/python3.12/dist-packages (from httpcore==1.*->httpx<1,>=0.23.0->openai) (0.16.0)\n",
            "Requirement already satisfied: annotated-types>=0.6.0 in /usr/local/lib/python3.12/dist-packages (from pydantic<3,>=1.9.0->openai) (0.7.0)\n",
            "Requirement already satisfied: pydantic-core==2.33.2 in /usr/local/lib/python3.12/dist-packages (from pydantic<3,>=1.9.0->openai) (2.33.2)\n",
            "Requirement already satisfied: typing-inspection>=0.4.0 in /usr/local/lib/python3.12/dist-packages (from pydantic<3,>=1.9.0->openai) (0.4.1)\n",
            "Requirement already satisfied: charset_normalizer<4,>=2 in /usr/local/lib/python3.12/dist-packages (from requests>=2.26.0->tiktoken) (3.4.3)\n",
            "Requirement already satisfied: urllib3<3,>=1.21.1 in /usr/local/lib/python3.12/dist-packages (from requests>=2.26.0->tiktoken) (2.5.0)\n",
            "Requirement already satisfied: oauthlib>=3.0.0 in /usr/local/lib/python3.12/dist-packages (from requests-oauthlib->mwclient) (3.3.1)\n",
            "Downloading mwclient-0.11.0-py3-none-any.whl (33 kB)\n",
            "Downloading mwparserfromhell-0.7.2-cp312-cp312-manylinux2014_x86_64.manylinux_2_17_x86_64.manylinux_2_28_x86_64.whl (256 kB)\n",
            "\u001b[2K   \u001b[90m━━━━━━━━━━━━━━━━━━━━━━━━━━━━━━━━━━━━━━━━\u001b[0m \u001b[32m256.5/256.5 kB\u001b[0m \u001b[31m7.8 MB/s\u001b[0m eta \u001b[36m0:00:00\u001b[0m\n",
            "\u001b[?25hInstalling collected packages: mwparserfromhell, mwclient\n",
            "Successfully installed mwclient-0.11.0 mwparserfromhell-0.7.2\n"
          ]
        }
      ]
    },
    {
      "cell_type": "code",
      "source": [
        "from openai import OpenAI\n",
        "from google.colab import userdata\n",
        "import ast\n",
        "import numpy as np\n",
        "import pandas as pd\n",
        "from scipy.spatial.distance import cosine\n",
        "import pandas as pd\n",
        "import tiktoken  # для подсчета токенов"
      ],
      "metadata": {
        "id": "RdiIOEvGpVo8"
      },
      "execution_count": null,
      "outputs": []
    },
    {
      "cell_type": "code",
      "source": [
        "from google.colab import drive\n",
        "import pandas as pd\n",
        "drive.mount('/content/drive')\n",
        "\n",
        "# Укажите полный путь к файлу\n",
        "df = pd.read_csv('/content/drive/MyDrive/Colab Notebooks/Folklore/English folklore_2025.csv')"
      ],
      "metadata": {
        "colab": {
          "base_uri": "https://localhost:8080/"
        },
        "id": "t4XUo6HvqE6m",
        "outputId": "22a96165-0329-4d8c-8738-a17cffdc1d88"
      },
      "execution_count": null,
      "outputs": [
        {
          "output_type": "stream",
          "name": "stdout",
          "text": [
            "Drive already mounted at /content/drive; to attempt to forcibly remount, call drive.mount(\"/content/drive\", force_remount=True).\n"
          ]
        }
      ]
    },
    {
      "cell_type": "code",
      "execution_count": null,
      "metadata": {
        "colab": {
          "base_uri": "https://localhost:8080/"
        },
        "id": "EDsHLXeGoyM8",
        "outputId": "3be8a569-9c11-499f-c4b5-87b9d34e4829"
      },
      "outputs": [
        {
          "output_type": "stream",
          "name": "stdout",
          "text": [
            "                                                text  \\\n",
            "0  Dartmoor Discovery\\n\\nThe Dartmoor Discovery i...   \n",
            "1  Dartmoor Discovery\\n\\n== History ==\\n\\nThe rac...   \n",
            "2  Dartmoor Discovery\\n\\n== Course ==\\n\\nThe race...   \n",
            "3  Dartmoor Discovery\\n\\n== Past Results ==\\n\\nTh...   \n",
            "4  Oh Yoko!\\n\\n\"Oh Yoko!\" is a 1971 song written ...   \n",
            "\n",
            "                                           embedding  \n",
            "0  [-0.009345600381493568, -0.013741943053901196,...  \n",
            "1  [0.0021660402417182922, -0.02347492054104805, ...  \n",
            "2  [-0.011500535532832146, 0.00444587180390954, -...  \n",
            "3  [-0.0210643969476223, -0.0007650780607946217, ...  \n",
            "4  [-0.026596061885356903, -0.008735978975892067,...  \n"
          ]
        }
      ],
      "source": [
        "\n",
        "# Показать первые 5 строк\n",
        "print(df.head())"
      ]
    },
    {
      "cell_type": "code",
      "source": [
        "EMBEDDING_MODEL = \"text-embedding-ada-002\"\n",
        "\n",
        "# Получаем API ключ из секретов Colab\n",
        "api_key = userdata.get(\"OPENAI_API_KEY\")\n",
        "\n",
        "# Создаем клиента с API ключом (это у вас уже есть)\n",
        "client = OpenAI(api_key=api_key)\n",
        "\n",
        "# Функция для получения embedding\n",
        "def get_embedding(text):\n",
        "    response = client.embeddings.create(\n",
        "        model=EMBEDDING_MODEL,\n",
        "        input=text\n",
        "    )\n",
        "    return response.data[0].embedding\n",
        "\n",
        "# Функция для поиска релевантных строк\n",
        "def strings_ranked_by_relatedness(query: str, df: pd.DataFrame, top_n: int = 100):\n",
        "    \"\"\"Возвращает top_n наиболее релевантных строк из DataFrame\"\"\"\n",
        "    query_embedding = get_embedding(query)\n",
        "    strings_and_relatednesses = []\n",
        "\n",
        "    for idx, row in df.iterrows():\n",
        "        # Преобразуем строку embedding в массив (если нужно)\n",
        "        if isinstance(row['embedding'], str):\n",
        "            embedding_array = np.array(ast.literal_eval(row['embedding']))\n",
        "        else:\n",
        "            embedding_array = row['embedding']\n",
        "\n",
        "        # Вычисляем косинусное сходство\n",
        "        relatedness = 1 - cosine(query_embedding, embedding_array)\n",
        "        strings_and_relatednesses.append((row['text'], relatedness))\n",
        "\n",
        "    # Сортируем по релевантности\n",
        "    strings_and_relatednesses.sort(key=lambda x: x[1], reverse=True)\n",
        "\n",
        "    strings = [item[0] for item in strings_and_relatednesses[:top_n]]\n",
        "    relatednesses = [item[1] for item in strings_and_relatednesses[:top_n]]\n",
        "\n",
        "    return strings, relatednesses\n",
        "\n",
        "# Сначала преобразуем embeddings в массивы\n",
        "df['embedding'] = df['embedding'].apply(lambda x: np.array(ast.literal_eval(x)) if isinstance(x, str) else x)\n",
        "\n",
        "# Теперь запускаем поиск\n",
        "# strings, relatednesses = strings_ranked_by_relatedness(\"dragon\", df, top_n=5)\n",
        "# for string, relatedness in zip(strings, relatednesses):\n",
        "#     print(f\"{relatedness=:.3f}\")\n",
        "#     display(string)"
      ],
      "metadata": {
        "colab": {
          "base_uri": "https://localhost:8080/",
          "height": 492
        },
        "id": "pFzLx1bFpCau",
        "outputId": "20dfca1c-5eb7-4f0f-8436-cd5f50dd8166"
      },
      "execution_count": null,
      "outputs": [
        {
          "output_type": "stream",
          "name": "stdout",
          "text": [
            "relatedness=0.824\n"
          ]
        },
        {
          "output_type": "display_data",
          "data": {
            "text/plain": [
              "'Germanic dragon\\n\\n== Terminology ==\\n\\n=== Written corpus ===\\n\\n==== Early corpus ====\\n\\nIn the 10th century Old English epic poem Beowulf, probably composed a century or two earlier, \"the dragon\" is referred to as both a and a . In the eddic poem Völuspá, dating back to the 10th century, the dragon Níðhöggr, is foretold to show himself at the dawn of the new world, revealing himself to be a \"flying dragon\" (), and a \"shimmering adder\" (), flying over the land, carrying the dead between his \"feathers\". |There comes the dim dragon flying, a gleaming adder, below from the Niðafjöll. Carrying in between the feathers —flying the land over— Nidhogg corpses does—. }} thumb|300px|The [[Ramsund carving, a Viking Age depiction of Fáfnir slain by Sigurd.]] In the Middle High German epic poem Nibelungenlied, written around 1200, the unnamed dragon (\"Fáfnir\") is referred to as a (\"lin-drake\", ie, lindworm), which associate professor of German, George Henry Needler (1866–1962), translated as \"worm-like dragon\". The Old Norse Eddic poem Fáfnismál, written around 1270, tells an alternate version of the same root story as Nibelungenlied, were the dragon, Fáfnir, is described as flightless and snake-like, and is referred to as an .<ref name=\"The Poetic Edda : The Mythological Poems\"/> In the later, late 13th century Icelandic saga, Völsunga saga, Fáfnir is instead described with shoulders, suggesting legs, wings or both, and is referred to as both a (dragon) and an (worm). Both of these descriptions are consistent with 11th century depictions of Fáfnir as a runic animal on various picture stones, sometimes being limbless and other times featuring various forms of limbs. Such stones are collectively called Sigurd stones, after Fáfnir\\'s killer, Sigurd, who often acts as the indicator for the motif.'"
            ],
            "application/vnd.google.colaboratory.intrinsic+json": {
              "type": "string"
            }
          },
          "metadata": {}
        },
        {
          "output_type": "stream",
          "name": "stdout",
          "text": [
            "relatedness=0.822\n"
          ]
        },
        {
          "output_type": "display_data",
          "data": {
            "text/plain": [
              "'Germanic dragon\\n\\nthumb|[[Urnes-style runestone U 887 (1070–1100), Skillsta, Sweden, showing a runic dragon and a bipedal winged dragon.]] thumb|An 11th century Norse dragonhead decoration, possibly for a [[reliquary.]] Worm, wurm or wyrm (; ; ), meaning serpent, are archaic terms for dragons (;}} ;}} }}) in the wider Germanic mythology and folklore, in which they are often portrayed as large venomous snakes and hoarders of gold. Especially in later tales, however, they share many common features with other dragons in European mythology, such as having wings. Prominent worms attested in medieval Germanic works include the dragon that killed Beowulf, the central dragon in the Völsung Cycle – Fáfnir, Níðhöggr, and the great sea serpent, Jǫrmungandr, including subcategories such as lindworms and sea serpents.'"
            ],
            "application/vnd.google.colaboratory.intrinsic+json": {
              "type": "string"
            }
          },
          "metadata": {}
        },
        {
          "output_type": "stream",
          "name": "stdout",
          "text": [
            "relatedness=0.821\n"
          ]
        },
        {
          "output_type": "display_data",
          "data": {
            "text/plain": [
              "'Germanic dragon\\n\\n== Terminology ==\\n\\n=== Written corpus ===\\n\\n==== Later corpus ====\\n\\nIn the later, 14th century, Icelandic sagas: Ketils saga hœngs, and Konráðs saga keisarasonar, ormar and drekar are portrayed as distinct beings, with winged dragons sometimes specified as , \"flying dragon\" (), however, in contrast, the term , \"flyging serpent\", is also recorded. Interestingly, the Icelandic written corpus still describe dragons as very serpentine-like. Their tail, for example, is often called a sporðr, a word for \"fish tail, serpent tail and thereof\" (a tail for swimming). The 13th century saga, Bjarnar saga Hítdœlakappa, writes the following: | Then Bjorn grabbed the dragon\\'s tail with one hand, and with the other he slashed at the wings, which broke and the dragon fell down dead. }} The later, 14th century saga, Ketils saga hœngs, specifically refers to sporðr as the tail of a serpent, and also describes the dragon as having a \"coil\" () like a serpent, but \"wings like a dragon\": | He had a coiled body and tail like a serpent, but wings like a dragon. }} The evolution of wingless and legless worms and lindworms to flying, four-legged romanesque dragons in Germanic folklore and literature is most likely due to influence from continental Europe that was facilitated by Christianisation and the increased availability of translated romances. It has thus been proposed that the description in Völuspá of Níðhöggr with feathers and flying after Ragnarök is a late addition and potentially a result of the integration of pagan and Christian imagery. Interestingly, Old Icelandic was later literarily borrowed into Old Swedish as flughdraki and floghdraki, which then became a term for a Swedish type of wingless, limbless, flying dragon – Flogdrake – said to soar across the skies as a fiery or golden stripe that stretches across the sky (compare the Swedish lindworm, which lacks both limbs and wings, also the analog Slavic fiery serpents). Old Swedish floghdraki was also, as a partial calque, borrowed into Finnish, as , \"louhi-serpent\", which later folk-etymologically morphed into (\"salmon serpent\"), Finnish for dragon.'"
            ],
            "application/vnd.google.colaboratory.intrinsic+json": {
              "type": "string"
            }
          },
          "metadata": {}
        },
        {
          "output_type": "stream",
          "name": "stdout",
          "text": [
            "relatedness=0.818\n"
          ]
        },
        {
          "output_type": "display_data",
          "data": {
            "text/plain": [
              "'Germanic dragon\\n\\n== Terminology ==\\n\\nthumb|left|A [[Sweden|Swedish lindworm drawn by Swedish illustrator John Bauer, 1911. The Swedish lindworm lacks wings and limbs.]]'"
            ],
            "application/vnd.google.colaboratory.intrinsic+json": {
              "type": "string"
            }
          },
          "metadata": {}
        },
        {
          "output_type": "stream",
          "name": "stdout",
          "text": [
            "relatedness=0.818\n"
          ]
        },
        {
          "output_type": "display_data",
          "data": {
            "text/plain": [
              "'Flogdrake\\n\\nFlogdrake (Old Swedish: floghdraki, ), also elddrake or eldsdrake (),<ref name=\"SAOB eldsdrake\"/><ref name=\"kb.dk\"/> is a Nordic type of dragon, especially of Swedish folklore, including Finnish and Estonian folklore (see kratt). In appearance, it is related to the fiery serpents of Slavic myth; it is a wingless worm-dragon that flies across the sky while glowing, looking like a streak of fire or light akin to a shooting star, but unlike Slavic myth, it lives in mountain tunnels that it bores. Related myths also exist in Northern Germany, for example the Schrat.<ref name=\"kb.dk\"/>'"
            ],
            "application/vnd.google.colaboratory.intrinsic+json": {
              "type": "string"
            }
          },
          "metadata": {}
        }
      ]
    },
    {
      "cell_type": "code",
      "source": [
        "GPT_MODEL = \"gpt-3.5-turbo\""
      ],
      "metadata": {
        "id": "Nu-a_76Hpuhc"
      },
      "execution_count": null,
      "outputs": []
    },
    {
      "cell_type": "code",
      "source": [
        "# с этой функцией мы уже знакомы\n",
        "def num_tokens(text: str, model: str = GPT_MODEL) -> int:\n",
        "    \"\"\"Возвращает число токенов в строке для заданной модели\"\"\"\n",
        "    encoding = tiktoken.encoding_for_model(model)\n",
        "    return len(encoding.encode(text))\n",
        "\n",
        "# Функция формирования запроса к chatGPT по пользовательскому вопросу и базе знаний\n",
        "def query_message(\n",
        "    query: str, # пользовательский запрос\n",
        "    df: pd.DataFrame, # DataFrame со столбцами text и embedding (база знаний)\n",
        "    model: str, # модель\n",
        "    token_budget: int # ограничение на число отсылаемых токенов в модель\n",
        ") -> str:\n",
        "    \"\"\"Возвращает сообщение для GPT с соответствующими исходными текстами, извлеченными из фрейма данных (базы знаний).\"\"\"\n",
        "    strings, relatednesses = strings_ranked_by_relatedness(query, df) # функция ранжирования базы знаний по пользовательскому запросу\n",
        "    # Шаблон инструкции для chatGPT\n",
        "    message = 'Use the below articles on the English Folklore to answer the subsequent question add a lot of emojies in different part of textto make it look mmore interesting. If the answer cannot be found in the articles, write \"I could not find an answer.\"'\n",
        "    # Шаблон для вопроса\n",
        "    question = f\"\\n\\nQuestion: {query}\"\n",
        "\n",
        "    # Добавляем к сообщению для chatGPT релевантные строки из базы знаний, пока не выйдем за допустимое число токенов\n",
        "    for string in strings:\n",
        "        next_article = f'\\n\\nWikipedia article section:\\n\"\"\"\\n{string}\\n\"\"\"'\n",
        "        if (num_tokens(message + next_article + question, model=model) > token_budget):\n",
        "            break\n",
        "        else:\n",
        "            message += next_article\n",
        "    return message + question\n",
        "\n",
        "\n",
        "def ask(\n",
        "    query: str, # пользовательский запрос\n",
        "    df: pd.DataFrame = df, # DataFrame со столбцами text и embedding (база знаний)\n",
        "    model: str = GPT_MODEL, # модель\n",
        "    token_budget: int = 4096 - 500, # ограничение на число отсылаемых токенов в модель\n",
        "    print_message: bool = False, # нужно ли выводить сообщение перед отправкой\n",
        ") -> str:\n",
        "    \"\"\"Отвечает на вопрос, используя GPT и базу знаний.\"\"\"\n",
        "    # Формируем сообщение к chatGPT (функция выше)\n",
        "    message = query_message(query, df, model=model, token_budget=token_budget)\n",
        "    # Если параметр True, то выводим сообщение\n",
        "    if print_message:\n",
        "        print(message)\n",
        "    messages = [\n",
        "        {\"role\": \"system\", \"content\": \"You answer questions about English Folklore.\"},\n",
        "        {\"role\": \"user\", \"content\": message},\n",
        "    ]\n",
        "\n",
        "    # ИСПРАВЛЕННАЯ СТРОКА: используем client вместо openai\n",
        "    response = client.chat.completions.create(\n",
        "        model=model,\n",
        "        messages=messages,\n",
        "        temperature=0 # гиперпараметр степени случайности при генерации текста\n",
        "    )\n",
        "    response_message = response.choices[0].message.content\n",
        "    return response_message"
      ],
      "metadata": {
        "id": "LwMKAZNVqBbw"
      },
      "execution_count": null,
      "outputs": []
    },
    {
      "cell_type": "code",
      "source": [
        "# ask('tell me about ancient english cities')"
      ],
      "metadata": {
        "colab": {
          "base_uri": "https://localhost:8080/",
          "height": 141
        },
        "id": "NW3QIT8Bpyle",
        "outputId": "c452b104-f890-4817-dad0-549d9ae5c309"
      },
      "execution_count": null,
      "outputs": [
        {
          "output_type": "error",
          "ename": "NameError",
          "evalue": "name 'ask' is not defined",
          "traceback": [
            "\u001b[0;31m---------------------------------------------------------------------------\u001b[0m",
            "\u001b[0;31mNameError\u001b[0m                                 Traceback (most recent call last)",
            "\u001b[0;32m/tmp/ipython-input-2111926831.py\u001b[0m in \u001b[0;36m<cell line: 0>\u001b[0;34m()\u001b[0m\n\u001b[0;32m----> 1\u001b[0;31m \u001b[0mask\u001b[0m\u001b[0;34m(\u001b[0m\u001b[0;34m'tell me about ancient english cities'\u001b[0m\u001b[0;34m)\u001b[0m\u001b[0;34m\u001b[0m\u001b[0;34m\u001b[0m\u001b[0m\n\u001b[0m",
            "\u001b[0;31mNameError\u001b[0m: name 'ask' is not defined"
          ]
        }
      ]
    }
  ]
}